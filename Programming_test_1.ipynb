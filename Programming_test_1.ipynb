{
  "nbformat": 4,
  "nbformat_minor": 0,
  "metadata": {
    "colab": {
      "name": "Programming_test_1.ipynb",
      "provenance": [],
      "collapsed_sections": []
    },
    "kernelspec": {
      "name": "python3",
      "display_name": "Python 3"
    },
    "language_info": {
      "name": "python"
    }
  },
  "cells": [
    {
      "cell_type": "markdown",
      "metadata": {
        "id": "mFWzQX4PWaOB"
      },
      "source": [
        "Import packages"
      ]
    },
    {
      "cell_type": "code",
      "metadata": {
        "id": "cz8rasYf6TW7"
      },
      "source": [
        "import pandas as pd\n",
        "import os\n",
        "import seaborn as sns\n",
        "import matplotlib.pyplot as plt\n",
        "import math\n",
        "import numpy as np\n",
        "import scipy.stats\n",
        "from sklearn.linear_model import LogisticRegression\n",
        "from xgboost import XGBClassifier\n",
        "from sklearn.metrics.cluster import adjusted_mutual_info_score\n",
        "import warnings\n",
        "warnings.filterwarnings('ignore')"
      ],
      "execution_count": 19,
      "outputs": []
    },
    {
      "cell_type": "markdown",
      "metadata": {
        "id": "Rr93ULBMcabF"
      },
      "source": [
        "Loading and preprocessing data"
      ]
    },
    {
      "cell_type": "code",
      "metadata": {
        "colab": {
          "base_uri": "https://localhost:8080/",
          "height": 419
        },
        "id": "PNnH59I66c36",
        "outputId": "eb692a52-c1e2-44e1-d8a1-673e7e6d4076"
      },
      "source": [
        "data_path = 'https://raw.githubusercontent.com/dienthaipham103/programming_test/master/data/gateway.csv'\n",
        "\n",
        "# read csv file\n",
        "df = pd.read_csv(data_path)\n",
        "# convert timestamp -> microseconds\n",
        "df['timestamp'] = df['timestamp'].apply(lambda x: int(x.split(' ')[0])/(10**3))\n",
        "df"
      ],
      "execution_count": 20,
      "outputs": [
        {
          "output_type": "execute_result",
          "data": {
            "text/html": [
              "<div>\n",
              "<style scoped>\n",
              "    .dataframe tbody tr th:only-of-type {\n",
              "        vertical-align: middle;\n",
              "    }\n",
              "\n",
              "    .dataframe tbody tr th {\n",
              "        vertical-align: top;\n",
              "    }\n",
              "\n",
              "    .dataframe thead th {\n",
              "        text-align: right;\n",
              "    }\n",
              "</style>\n",
              "<table border=\"1\" class=\"dataframe\">\n",
              "  <thead>\n",
              "    <tr style=\"text-align: right;\">\n",
              "      <th></th>\n",
              "      <th>timestamp</th>\n",
              "      <th>gateway_targeted</th>\n",
              "      <th>succeeded</th>\n",
              "      <th>price</th>\n",
              "      <th>side</th>\n",
              "      <th>quantity</th>\n",
              "    </tr>\n",
              "  </thead>\n",
              "  <tbody>\n",
              "    <tr>\n",
              "      <th>0</th>\n",
              "      <td>1.813080e+02</td>\n",
              "      <td>6</td>\n",
              "      <td>False</td>\n",
              "      <td>20000</td>\n",
              "      <td>sell</td>\n",
              "      <td>89</td>\n",
              "    </tr>\n",
              "    <tr>\n",
              "      <th>1</th>\n",
              "      <td>3.584480e+02</td>\n",
              "      <td>3</td>\n",
              "      <td>False</td>\n",
              "      <td>19999</td>\n",
              "      <td>sell</td>\n",
              "      <td>38</td>\n",
              "    </tr>\n",
              "    <tr>\n",
              "      <th>2</th>\n",
              "      <td>4.760810e+02</td>\n",
              "      <td>2</td>\n",
              "      <td>False</td>\n",
              "      <td>19999</td>\n",
              "      <td>buy</td>\n",
              "      <td>17</td>\n",
              "    </tr>\n",
              "    <tr>\n",
              "      <th>3</th>\n",
              "      <td>1.007773e+03</td>\n",
              "      <td>2</td>\n",
              "      <td>False</td>\n",
              "      <td>19999</td>\n",
              "      <td>buy</td>\n",
              "      <td>88</td>\n",
              "    </tr>\n",
              "    <tr>\n",
              "      <th>4</th>\n",
              "      <td>1.554167e+03</td>\n",
              "      <td>7</td>\n",
              "      <td>False</td>\n",
              "      <td>19999</td>\n",
              "      <td>buy</td>\n",
              "      <td>42</td>\n",
              "    </tr>\n",
              "    <tr>\n",
              "      <th>...</th>\n",
              "      <td>...</td>\n",
              "      <td>...</td>\n",
              "      <td>...</td>\n",
              "      <td>...</td>\n",
              "      <td>...</td>\n",
              "      <td>...</td>\n",
              "    </tr>\n",
              "    <tr>\n",
              "      <th>499995</th>\n",
              "      <td>2.500072e+08</td>\n",
              "      <td>7</td>\n",
              "      <td>False</td>\n",
              "      <td>18668</td>\n",
              "      <td>buy</td>\n",
              "      <td>58</td>\n",
              "    </tr>\n",
              "    <tr>\n",
              "      <th>499996</th>\n",
              "      <td>2.500081e+08</td>\n",
              "      <td>7</td>\n",
              "      <td>False</td>\n",
              "      <td>18666</td>\n",
              "      <td>sell</td>\n",
              "      <td>49</td>\n",
              "    </tr>\n",
              "    <tr>\n",
              "      <th>499997</th>\n",
              "      <td>2.500088e+08</td>\n",
              "      <td>6</td>\n",
              "      <td>False</td>\n",
              "      <td>18666</td>\n",
              "      <td>buy</td>\n",
              "      <td>92</td>\n",
              "    </tr>\n",
              "    <tr>\n",
              "      <th>499998</th>\n",
              "      <td>2.500095e+08</td>\n",
              "      <td>8</td>\n",
              "      <td>False</td>\n",
              "      <td>18665</td>\n",
              "      <td>sell</td>\n",
              "      <td>87</td>\n",
              "    </tr>\n",
              "    <tr>\n",
              "      <th>499999</th>\n",
              "      <td>2.500098e+08</td>\n",
              "      <td>1</td>\n",
              "      <td>False</td>\n",
              "      <td>18665</td>\n",
              "      <td>sell</td>\n",
              "      <td>80</td>\n",
              "    </tr>\n",
              "  </tbody>\n",
              "</table>\n",
              "<p>500000 rows × 6 columns</p>\n",
              "</div>"
            ],
            "text/plain": [
              "           timestamp  gateway_targeted  succeeded  price  side  quantity\n",
              "0       1.813080e+02                 6      False  20000  sell        89\n",
              "1       3.584480e+02                 3      False  19999  sell        38\n",
              "2       4.760810e+02                 2      False  19999   buy        17\n",
              "3       1.007773e+03                 2      False  19999   buy        88\n",
              "4       1.554167e+03                 7      False  19999   buy        42\n",
              "...              ...               ...        ...    ...   ...       ...\n",
              "499995  2.500072e+08                 7      False  18668   buy        58\n",
              "499996  2.500081e+08                 7      False  18666  sell        49\n",
              "499997  2.500088e+08                 6      False  18666   buy        92\n",
              "499998  2.500095e+08                 8      False  18665  sell        87\n",
              "499999  2.500098e+08                 1      False  18665  sell        80\n",
              "\n",
              "[500000 rows x 6 columns]"
            ]
          },
          "metadata": {},
          "execution_count": 20
        }
      ]
    },
    {
      "cell_type": "markdown",
      "metadata": {
        "id": "1NTcLtdihu-_"
      },
      "source": [
        "-------------------------------------------------------------------------------"
      ]
    },
    {
      "cell_type": "markdown",
      "metadata": {
        "id": "yS04x-_OgfoT"
      },
      "source": [
        "**1. Does the data suggest that any particular gateway or gateways are faster than others?**"
      ]
    },
    {
      "cell_type": "markdown",
      "metadata": {
        "id": "ewuTIZMWhl0a"
      },
      "source": [
        "To identify the gateways that are faster than others, we analyze the time interval between two consecutive orders in each gateway."
      ]
    },
    {
      "cell_type": "code",
      "metadata": {
        "colab": {
          "base_uri": "https://localhost:8080/"
        },
        "id": "5hD3wLHfgmyQ",
        "outputId": "1b7f5cfb-6a9c-45f6-e333-fb7dc39b9bad"
      },
      "source": [
        "# list all gateways\n",
        "gateway_list = list(df['gateway_targeted'].unique())\n",
        "sorted(gateway_list)"
      ],
      "execution_count": 21,
      "outputs": [
        {
          "output_type": "execute_result",
          "data": {
            "text/plain": [
              "[1, 2, 3, 4, 5, 6, 7, 8]"
            ]
          },
          "metadata": {},
          "execution_count": 21
        }
      ]
    },
    {
      "cell_type": "code",
      "metadata": {
        "colab": {
          "base_uri": "https://localhost:8080/"
        },
        "id": "g4yq70g-jRxH",
        "outputId": "161575f9-f39b-41be-937d-7ddbdcf691f6"
      },
      "source": [
        "# for each gateway, there is a list of time interval. We compute mean of the time intervals and compare the mean of all gateways\n",
        "time_intervals = []\n",
        "for gateway_num in gateway_list:\n",
        "  df_sub = df[df['gateway_targeted'] == gateway_num].reset_index(drop=True)\n",
        "  df_sub['dtime'] = df_sub['timestamp'] - df_sub['timestamp'].shift(1)\n",
        "  X = df_sub['dtime'].to_numpy()[1:]\n",
        "  time_intervals.append((gateway_num, X))\n",
        "\n",
        "# show the mean of time intervals of all gateways\n",
        "time_intervals.sort(key=lambda x: x[1].mean())\n",
        "for gateway_num, X in time_intervals:\n",
        "  print('Gateway %d: %f' %(gateway_num, X.mean()))\n",
        "\n",
        "# save time_interval list of the gateways into a dictionary\n",
        "time_intervals_dict = dict(time_intervals)"
      ],
      "execution_count": 22,
      "outputs": [
        {
          "output_type": "stream",
          "name": "stdout",
          "text": [
            "Gateway 6: 3981.345859\n",
            "Gateway 4: 3986.079185\n",
            "Gateway 2: 3991.136864\n",
            "Gateway 8: 3999.060895\n",
            "Gateway 3: 4003.408481\n",
            "Gateway 5: 4006.887212\n",
            "Gateway 7: 4014.491985\n",
            "Gateway 1: 4018.686001\n"
          ]
        }
      ]
    },
    {
      "cell_type": "markdown",
      "metadata": {
        "id": "lYlwc9a4pvTt"
      },
      "source": [
        "Conclude: Gateway 6, 4, 2, 8 are a little faster than gateway 3, 5, 7, 1"
      ]
    },
    {
      "cell_type": "markdown",
      "metadata": {
        "id": "QxJuGPkEs6Sp"
      },
      "source": [
        "**2.\tIf you were asked to model the statistical significance of your results, how would you approach this? Note that “statistical significance” here doesn’t necessarily imply a frequentist approach; a Bayesian approach would be fine too.**"
      ]
    },
    {
      "cell_type": "markdown",
      "metadata": {
        "id": "snxZ5lvCMP5B"
      },
      "source": [
        "For each gateway, there is a list of time intervals between two consecutive orders. We can consider the list is a sample from a whole population of time intervals. Suppose that we have two gateways and want to know which gateway is faster, the thing we can do is to compare the population means of the time intervals of these two gateways. So, the Hypothesis Test for a Difference in Two Population Means could be used here to solve the problem."
      ]
    },
    {
      "cell_type": "markdown",
      "metadata": {
        "id": "Y5p1HW7cUsgB"
      },
      "source": [
        "Implementation of Hypothesis Test for a Difference in Two Population Means"
      ]
    },
    {
      "cell_type": "code",
      "metadata": {
        "id": "NzSgRJlFT5jW"
      },
      "source": [
        "'''\n",
        "Suppose that we have two samples from different populations (different gateways)\n",
        "The null hypothesis - H0: μ1 = μ2.\n",
        "The alternative hypothesis - Ha: μ1 > μ2.\n",
        "'''\n",
        "\n",
        "# function to compute the sample standard deviation\n",
        "def sample_std(X):\n",
        "    sample_mean = X.mean()\n",
        "    n = X.shape[0]\n",
        "    s = math.sqrt(((X - sample_mean)**2).sum()/(n-1))\n",
        "    return s\n",
        "\n",
        "# function to compute the degrees of freedom\n",
        "def degree_freedom(s1, s2, n1, n2):\n",
        "    se1 = s1/math.sqrt(n1)\n",
        "    se2 = s2/math.sqrt(n2)\n",
        "    return (((se1)**2 + (se2)**2)**2)/((se1)**4/(n1-1) + (se2)**4/(n2-1))\n",
        "\n",
        "# convert t-score into P-value. In this case, we use Right-tailed test (because Ha: u1 > u2)\n",
        "def get_p_value(t_score, df):\n",
        "    return scipy.stats.t.sf(t_score, df=df)\n",
        "\n",
        "# input two samples, significance level -> Reject the null hypothesis or not\n",
        "def hypothesis_test(X1, X2, significance_level=0.05):\n",
        "    n1 = X1.shape[0]\n",
        "    n2 = X2.shape[0]\n",
        "    sample_mean1 = X1.mean()\n",
        "    sample_mean2 = X2.mean()\n",
        "    s1 = sample_std(X1)\n",
        "    s2 = sample_std(X2)\n",
        "\n",
        "    t_score = (sample_mean1 - sample_mean2)/math.sqrt(s1**2/n1 + s2**2/n2)\n",
        "    df = degree_freedom(s1, s2, n1, n2)\n",
        "    p_value = get_p_value(t_score, df)\n",
        "\n",
        "    # show the info and the result\n",
        "    print('Size of sample 1: ', n1)\n",
        "    print('Size of sample 2: ', n2)\n",
        "    print('P-value: ', p_value)\n",
        "    print('Conclusion: ', ' Reject H0 and accept Ha' if p_value < significance_level else 'Accept H0')"
      ],
      "execution_count": 23,
      "outputs": []
    },
    {
      "cell_type": "code",
      "metadata": {
        "colab": {
          "base_uri": "https://localhost:8080/"
        },
        "id": "0K9gZz5aigmY",
        "outputId": "aa3766f5-c8c5-4bcc-fe2b-490ad3152c38"
      },
      "source": [
        "'''\n",
        "For example, we want to compare the speed of gateway 1 and 6. As the result of question 1, gateway 6 is faster than gateway 1 (u1 > u6)\n",
        "Now, we will use the Hypothesis Test to check the result\n",
        "'''\n",
        "X_gateway1 = time_intervals_dict[1]\n",
        "X_gateway6 = time_intervals_dict[6]\n",
        "hypothesis_test(X_gateway1, X_gateway6)"
      ],
      "execution_count": 24,
      "outputs": [
        {
          "output_type": "stream",
          "name": "stdout",
          "text": [
            "Size of sample 1:  62211\n",
            "Size of sample 2:  62795\n",
            "P-value:  0.042670459361608376\n",
            "Conclusion:   Reject H0 and accept Ha\n"
          ]
        }
      ]
    },
    {
      "cell_type": "markdown",
      "metadata": {
        "id": "Dm0s9CJwukoe"
      },
      "source": [
        "Result: Accept Ha ------> u1 > u6\n",
        "------> Gateway 6 is faster than gateway 1."
      ]
    },
    {
      "cell_type": "code",
      "metadata": {
        "colab": {
          "base_uri": "https://localhost:8080/"
        },
        "id": "MHo6WQORt6U6",
        "outputId": "6d12155b-d6e3-4a1f-af05-3279ae80322c"
      },
      "source": [
        "'''\n",
        "Similarly, we can compare the speed of gateway 1 and gateway 7. We expect that gateway 7 is not faster than gateway 1 (u1 = u7, not u1 > u7)\n",
        "'''\n",
        "X_gateway7 = time_intervals_dict[7]\n",
        "X_gateway1 = time_intervals_dict[1]\n",
        "hypothesis_test(X_gateway1, X_gateway7)"
      ],
      "execution_count": 25,
      "outputs": [
        {
          "output_type": "stream",
          "name": "stdout",
          "text": [
            "Size of sample 1:  62211\n",
            "Size of sample 2:  62276\n",
            "P-value:  0.42337515252347785\n",
            "Conclusion:  Accept H0\n"
          ]
        }
      ]
    },
    {
      "cell_type": "markdown",
      "metadata": {
        "id": "fbT0VrXRv7il"
      },
      "source": [
        "Result: Accept H0 ------> u1 = u7 -------> Gateway 7 and 1 almost have the same speed."
      ]
    },
    {
      "cell_type": "markdown",
      "metadata": {
        "id": "2f_ispems_GH"
      },
      "source": [
        "**3.\tBonus (optional, hard) question: from the data, can you determine any other factors affecting the probability of an order succeeding, other than the gateway?**"
      ]
    },
    {
      "cell_type": "code",
      "metadata": {
        "id": "Hdh5eo5suaYq"
      },
      "source": [
        "'''\n",
        "This function is to compute the the percentage of succeeded orders based on feature (gateway, price, side, quanity)\n",
        "'''\n",
        "def percentage_success(df, feature):\n",
        "  df_succeed = df.groupby(feature)['succeeded'].apply(lambda x: (x==True).sum()).reset_index(name='count')\n",
        "  df_fail = df.groupby(feature)['succeeded'].apply(lambda x: (x==False).sum()).reset_index(name='count')\n",
        "\n",
        "  df_percentage = pd.merge(df_succeed, df_fail, on=feature)\n",
        "  df_percentage['succeed_percentage'] = df_percentage['count_x']/(df_percentage['count_x'] + df_percentage['count_y'])*100\n",
        "  df_percentage = df_percentage[[feature, 'succeed_percentage']].sort_values(by='succeed_percentage', ascending=False).reset_index(drop=True)\n",
        "  df_percentage = df_percentage.sort_values(by=feature).reset_index(drop=True)\n",
        "  \n",
        "  return df_percentage"
      ],
      "execution_count": 26,
      "outputs": []
    },
    {
      "cell_type": "markdown",
      "metadata": {
        "id": "by8jU5hAs2PI"
      },
      "source": [
        "a. Gateway"
      ]
    },
    {
      "cell_type": "code",
      "metadata": {
        "colab": {
          "base_uri": "https://localhost:8080/",
          "height": 296
        },
        "id": "B9M46mr2vFOa",
        "outputId": "1a41c2c1-33c6-4ca3-f30a-deff6cc2a2e7"
      },
      "source": [
        "# Ananlyse the percentage of succeeded orders at different gateways\n",
        "df_gateway = percentage_success(df, 'gateway_targeted')\n",
        "# plot a bar chart to show the percentage\n",
        "sns.barplot(\n",
        "    x='gateway_targeted', \n",
        "    y='succeed_percentage', \n",
        "    data=df_gateway, \n",
        "    color='#69b3a2')\n",
        "plt.title('The percentage of succeeded orders at different gateways')\n",
        "plt.show()"
      ],
      "execution_count": 27,
      "outputs": [
        {
          "output_type": "display_data",
          "data": {
            "image/png": "[encoded data removed]",
            "text/plain": [
              "<Figure size 432x288 with 1 Axes>"
            ]
          },
          "metadata": {
            "needs_background": "light"
          }
        }
      ]
    },
    {
      "cell_type": "markdown",
      "metadata": {
        "id": "3j2fJ9JEvQ7C"
      },
      "source": [
        "b. Side"
      ]
    },
    {
      "cell_type": "code",
      "metadata": {
        "colab": {
          "base_uri": "https://localhost:8080/",
          "height": 295
        },
        "id": "TuK7hXyhs-Pn",
        "outputId": "693e95b4-f725-4b0c-abe2-2c770999ec30"
      },
      "source": [
        "# Ananlyse the percentage of succeeded orders of sell and buy sides\n",
        "df_side = percentage_success(df, 'side')\n",
        "# plot a bar chart to show the percentage\n",
        "sns.barplot(x='side', y='succeed_percentage', data=df_side, color='#69b3a2')\n",
        "plt.title('The percentage of succeeded orders of buy and sell sides')\n",
        "plt.show()"
      ],
      "execution_count": 28,
      "outputs": [
        {
          "output_type": "display_data",
          "data": {
            "image/png": "[encoded data removed]",
            "text/plain": [
              "<Figure size 432x288 with 1 Axes>"
            ]
          },
          "metadata": {
            "needs_background": "light"
          }
        }
      ]
    },
    {
      "cell_type": "markdown",
      "metadata": {
        "id": "FOq_-B8fvglW"
      },
      "source": [
        "c. Price"
      ]
    },
    {
      "cell_type": "code",
      "metadata": {
        "colab": {
          "base_uri": "https://localhost:8080/"
        },
        "id": "zpR3BS2DzFNr",
        "outputId": "f66cedac-8e3e-46bc-f433-ea54741e27b7"
      },
      "source": [
        "# Check the minimum and maximum price\n",
        "price_list = list(df['price'].unique())\n",
        "min_price, max_price = min(price_list), max(price_list)\n",
        "print('Min price: ', min_price)\n",
        "print('Max price: ', max_price)"
      ],
      "execution_count": 29,
      "outputs": [
        {
          "output_type": "stream",
          "name": "stdout",
          "text": [
            "Min price:  18539\n",
            "Max price:  20801\n"
          ]
        }
      ]
    },
    {
      "cell_type": "markdown",
      "metadata": {
        "id": "-NDynvlE68zc"
      },
      "source": [
        "We divide the price into multiple ranges:\n",
        "- range_1: 18539 -> 19000\n",
        "- range_2: 19000 -> 19500\n",
        "- range_3: 19500 -> 20000\n",
        "- range_4: 20000 -> 20500\n",
        "- range_5: 20500 -> 20801"
      ]
    },
    {
      "cell_type": "code",
      "metadata": {
        "colab": {
          "base_uri": "https://localhost:8080/",
          "height": 419
        },
        "id": "vGR1zznKzHwg",
        "outputId": "892596c4-f8e7-4b17-9c46-6a146edd8056"
      },
      "source": [
        "def price_range(p):\n",
        "  if p < 19000:\n",
        "    return 1\n",
        "  elif p < 19500:\n",
        "    return 2\n",
        "  elif p < 20000:\n",
        "    return 3\n",
        "  elif p < 20500:\n",
        "    return 4\n",
        "  else:\n",
        "    return 5\n",
        "\n",
        "df['price_range'] = df['price'].apply(price_range)\n",
        "df"
      ],
      "execution_count": 30,
      "outputs": [
        {
          "output_type": "execute_result",
          "data": {
            "text/html": [
              "<div>\n",
              "<style scoped>\n",
              "    .dataframe tbody tr th:only-of-type {\n",
              "        vertical-align: middle;\n",
              "    }\n",
              "\n",
              "    .dataframe tbody tr th {\n",
              "        vertical-align: top;\n",
              "    }\n",
              "\n",
              "    .dataframe thead th {\n",
              "        text-align: right;\n",
              "    }\n",
              "</style>\n",
              "<table border=\"1\" class=\"dataframe\">\n",
              "  <thead>\n",
              "    <tr style=\"text-align: right;\">\n",
              "      <th></th>\n",
              "      <th>timestamp</th>\n",
              "      <th>gateway_targeted</th>\n",
              "      <th>succeeded</th>\n",
              "      <th>price</th>\n",
              "      <th>side</th>\n",
              "      <th>quantity</th>\n",
              "      <th>price_range</th>\n",
              "    </tr>\n",
              "  </thead>\n",
              "  <tbody>\n",
              "    <tr>\n",
              "      <th>0</th>\n",
              "      <td>1.813080e+02</td>\n",
              "      <td>6</td>\n",
              "      <td>False</td>\n",
              "      <td>20000</td>\n",
              "      <td>sell</td>\n",
              "      <td>89</td>\n",
              "      <td>4</td>\n",
              "    </tr>\n",
              "    <tr>\n",
              "      <th>1</th>\n",
              "      <td>3.584480e+02</td>\n",
              "      <td>3</td>\n",
              "      <td>False</td>\n",
              "      <td>19999</td>\n",
              "      <td>sell</td>\n",
              "      <td>38</td>\n",
              "      <td>3</td>\n",
              "    </tr>\n",
              "    <tr>\n",
              "      <th>2</th>\n",
              "      <td>4.760810e+02</td>\n",
              "      <td>2</td>\n",
              "      <td>False</td>\n",
              "      <td>19999</td>\n",
              "      <td>buy</td>\n",
              "      <td>17</td>\n",
              "      <td>3</td>\n",
              "    </tr>\n",
              "    <tr>\n",
              "      <th>3</th>\n",
              "      <td>1.007773e+03</td>\n",
              "      <td>2</td>\n",
              "      <td>False</td>\n",
              "      <td>19999</td>\n",
              "      <td>buy</td>\n",
              "      <td>88</td>\n",
              "      <td>3</td>\n",
              "    </tr>\n",
              "    <tr>\n",
              "      <th>4</th>\n",
              "      <td>1.554167e+03</td>\n",
              "      <td>7</td>\n",
              "      <td>False</td>\n",
              "      <td>19999</td>\n",
              "      <td>buy</td>\n",
              "      <td>42</td>\n",
              "      <td>3</td>\n",
              "    </tr>\n",
              "    <tr>\n",
              "      <th>...</th>\n",
              "      <td>...</td>\n",
              "      <td>...</td>\n",
              "      <td>...</td>\n",
              "      <td>...</td>\n",
              "      <td>...</td>\n",
              "      <td>...</td>\n",
              "      <td>...</td>\n",
              "    </tr>\n",
              "    <tr>\n",
              "      <th>499995</th>\n",
              "      <td>2.500072e+08</td>\n",
              "      <td>7</td>\n",
              "      <td>False</td>\n",
              "      <td>18668</td>\n",
              "      <td>buy</td>\n",
              "      <td>58</td>\n",
              "      <td>1</td>\n",
              "    </tr>\n",
              "    <tr>\n",
              "      <th>499996</th>\n",
              "      <td>2.500081e+08</td>\n",
              "      <td>7</td>\n",
              "      <td>False</td>\n",
              "      <td>18666</td>\n",
              "      <td>sell</td>\n",
              "      <td>49</td>\n",
              "      <td>1</td>\n",
              "    </tr>\n",
              "    <tr>\n",
              "      <th>499997</th>\n",
              "      <td>2.500088e+08</td>\n",
              "      <td>6</td>\n",
              "      <td>False</td>\n",
              "      <td>18666</td>\n",
              "      <td>buy</td>\n",
              "      <td>92</td>\n",
              "      <td>1</td>\n",
              "    </tr>\n",
              "    <tr>\n",
              "      <th>499998</th>\n",
              "      <td>2.500095e+08</td>\n",
              "      <td>8</td>\n",
              "      <td>False</td>\n",
              "      <td>18665</td>\n",
              "      <td>sell</td>\n",
              "      <td>87</td>\n",
              "      <td>1</td>\n",
              "    </tr>\n",
              "    <tr>\n",
              "      <th>499999</th>\n",
              "      <td>2.500098e+08</td>\n",
              "      <td>1</td>\n",
              "      <td>False</td>\n",
              "      <td>18665</td>\n",
              "      <td>sell</td>\n",
              "      <td>80</td>\n",
              "      <td>1</td>\n",
              "    </tr>\n",
              "  </tbody>\n",
              "</table>\n",
              "<p>500000 rows × 7 columns</p>\n",
              "</div>"
            ],
            "text/plain": [
              "           timestamp  gateway_targeted  succeeded  ...  side quantity  price_range\n",
              "0       1.813080e+02                 6      False  ...  sell       89            4\n",
              "1       3.584480e+02                 3      False  ...  sell       38            3\n",
              "2       4.760810e+02                 2      False  ...   buy       17            3\n",
              "3       1.007773e+03                 2      False  ...   buy       88            3\n",
              "4       1.554167e+03                 7      False  ...   buy       42            3\n",
              "...              ...               ...        ...  ...   ...      ...          ...\n",
              "499995  2.500072e+08                 7      False  ...   buy       58            1\n",
              "499996  2.500081e+08                 7      False  ...  sell       49            1\n",
              "499997  2.500088e+08                 6      False  ...   buy       92            1\n",
              "499998  2.500095e+08                 8      False  ...  sell       87            1\n",
              "499999  2.500098e+08                 1      False  ...  sell       80            1\n",
              "\n",
              "[500000 rows x 7 columns]"
            ]
          },
          "metadata": {},
          "execution_count": 30
        }
      ]
    },
    {
      "cell_type": "code",
      "metadata": {
        "colab": {
          "base_uri": "https://localhost:8080/",
          "height": 432
        },
        "id": "2jt052NA0qqS",
        "outputId": "876e6197-df60-453d-9d1b-2f5812c338fe"
      },
      "source": [
        "'''\n",
        "Ananlyse the percentage of succeeded orders at different price ranges (for all orders, sell orders and buy orders)\n",
        "'''\n",
        "\n",
        "# Generate dataframe of percentage of succeeded orders\n",
        "df_price = percentage_success(df, 'price_range')\n",
        "df_sell = df[df['side'] == 'sell']\n",
        "df_price_sell = percentage_success(df_sell, 'price_range')\n",
        "df_buy = df[df['side'] == 'buy']\n",
        "df_price_buy = percentage_success(df_buy, 'price_range')\n",
        "\n",
        "# Draw plot\n",
        "f, axes = plt.subplots(1, 3, sharex=True, sharey=True, figsize=(18, 6))\n",
        "f.suptitle('The percentage of succeeded orders at different price ranges')\n",
        "\n",
        "axes[0].set_title('All orders')\n",
        "axes[1].set_title('Sell orders')\n",
        "axes[2].set_title('Buy orders')\n",
        "\n",
        "sns.barplot(x='price_range', y='succeed_percentage', data=df_price, color='#69b3a2', ax=axes[0])\n",
        "sns.barplot(x='price_range', y='succeed_percentage', data=df_price_sell, color='#69b3a2', ax=axes[1]) \n",
        "sns.barplot(x='price_range', y='succeed_percentage', data=df_price_buy, color='#69b3a2', ax=axes[2])\n",
        "\n",
        "plt.show()"
      ],
      "execution_count": 31,
      "outputs": [
        {
          "output_type": "display_data",
          "data": {
            "image/png": "[encoded data removed]",
            "text/plain": [
              "<Figure size 1296x432 with 3 Axes>"
            ]
          },
          "metadata": {
            "needs_background": "light"
          }
        }
      ]
    },
    {
      "cell_type": "markdown",
      "metadata": {
        "id": "pRwqUsawBshO"
      },
      "source": [
        "d. Quantity"
      ]
    },
    {
      "cell_type": "code",
      "metadata": {
        "colab": {
          "base_uri": "https://localhost:8080/"
        },
        "id": "SQ4f9kn3_D0l",
        "outputId": "9f72ab47-ac35-442d-8896-d65013e020b1"
      },
      "source": [
        "# check the minimum and maximum quantity\n",
        "quantity_list = list(df['quantity'].unique())\n",
        "min_quantity, max_quantity = min(quantity_list), max(quantity_list)\n",
        "print('Min quantity: ', min_quantity)\n",
        "print('Max quantity: ', max_quantity)"
      ],
      "execution_count": 32,
      "outputs": [
        {
          "output_type": "stream",
          "name": "stdout",
          "text": [
            "Min quantity:  1\n",
            "Max quantity:  101\n"
          ]
        }
      ]
    },
    {
      "cell_type": "markdown",
      "metadata": {
        "id": "L-PafzsVCjj1"
      },
      "source": [
        "We divide the quantity into multiple ranges:\n",
        "- range_1: 1 -> 10\n",
        "- range_2: 10 -> 20\n",
        "- range_3: 20 -> 30\n",
        "- range_4: 30 -> 40\n",
        "- range_5: 40 -> 50\n",
        "- range_6: 50 -> 60\n",
        "- range_7: 60 -> 70\n",
        "- range_8: 70 -> 80\n",
        "- range_9: 80 -> 90\n",
        "- range_10: 90 -> 101"
      ]
    },
    {
      "cell_type": "code",
      "metadata": {
        "colab": {
          "base_uri": "https://localhost:8080/",
          "height": 419
        },
        "id": "sdurgJcXCYc1",
        "outputId": "b519ebaa-3c09-4e55-f6eb-55af78706cc1"
      },
      "source": [
        "def quantity_range(x):\n",
        "  if x <= 90:\n",
        "    return math.ceil(x/10)\n",
        "  else:\n",
        "    return 10\n",
        "\n",
        "df['quantity_range'] = df['quantity'].apply(quantity_range)\n",
        "df"
      ],
      "execution_count": 33,
      "outputs": [
        {
          "output_type": "execute_result",
          "data": {
            "text/html": [
              "<div>\n",
              "<style scoped>\n",
              "    .dataframe tbody tr th:only-of-type {\n",
              "        vertical-align: middle;\n",
              "    }\n",
              "\n",
              "    .dataframe tbody tr th {\n",
              "        vertical-align: top;\n",
              "    }\n",
              "\n",
              "    .dataframe thead th {\n",
              "        text-align: right;\n",
              "    }\n",
              "</style>\n",
              "<table border=\"1\" class=\"dataframe\">\n",
              "  <thead>\n",
              "    <tr style=\"text-align: right;\">\n",
              "      <th></th>\n",
              "      <th>timestamp</th>\n",
              "      <th>gateway_targeted</th>\n",
              "      <th>succeeded</th>\n",
              "      <th>price</th>\n",
              "      <th>side</th>\n",
              "      <th>quantity</th>\n",
              "      <th>price_range</th>\n",
              "      <th>quantity_range</th>\n",
              "    </tr>\n",
              "  </thead>\n",
              "  <tbody>\n",
              "    <tr>\n",
              "      <th>0</th>\n",
              "      <td>1.813080e+02</td>\n",
              "      <td>6</td>\n",
              "      <td>False</td>\n",
              "      <td>20000</td>\n",
              "      <td>sell</td>\n",
              "      <td>89</td>\n",
              "      <td>4</td>\n",
              "      <td>9</td>\n",
              "    </tr>\n",
              "    <tr>\n",
              "      <th>1</th>\n",
              "      <td>3.584480e+02</td>\n",
              "      <td>3</td>\n",
              "      <td>False</td>\n",
              "      <td>19999</td>\n",
              "      <td>sell</td>\n",
              "      <td>38</td>\n",
              "      <td>3</td>\n",
              "      <td>4</td>\n",
              "    </tr>\n",
              "    <tr>\n",
              "      <th>2</th>\n",
              "      <td>4.760810e+02</td>\n",
              "      <td>2</td>\n",
              "      <td>False</td>\n",
              "      <td>19999</td>\n",
              "      <td>buy</td>\n",
              "      <td>17</td>\n",
              "      <td>3</td>\n",
              "      <td>2</td>\n",
              "    </tr>\n",
              "    <tr>\n",
              "      <th>3</th>\n",
              "      <td>1.007773e+03</td>\n",
              "      <td>2</td>\n",
              "      <td>False</td>\n",
              "      <td>19999</td>\n",
              "      <td>buy</td>\n",
              "      <td>88</td>\n",
              "      <td>3</td>\n",
              "      <td>9</td>\n",
              "    </tr>\n",
              "    <tr>\n",
              "      <th>4</th>\n",
              "      <td>1.554167e+03</td>\n",
              "      <td>7</td>\n",
              "      <td>False</td>\n",
              "      <td>19999</td>\n",
              "      <td>buy</td>\n",
              "      <td>42</td>\n",
              "      <td>3</td>\n",
              "      <td>5</td>\n",
              "    </tr>\n",
              "    <tr>\n",
              "      <th>...</th>\n",
              "      <td>...</td>\n",
              "      <td>...</td>\n",
              "      <td>...</td>\n",
              "      <td>...</td>\n",
              "      <td>...</td>\n",
              "      <td>...</td>\n",
              "      <td>...</td>\n",
              "      <td>...</td>\n",
              "    </tr>\n",
              "    <tr>\n",
              "      <th>499995</th>\n",
              "      <td>2.500072e+08</td>\n",
              "      <td>7</td>\n",
              "      <td>False</td>\n",
              "      <td>18668</td>\n",
              "      <td>buy</td>\n",
              "      <td>58</td>\n",
              "      <td>1</td>\n",
              "      <td>6</td>\n",
              "    </tr>\n",
              "    <tr>\n",
              "      <th>499996</th>\n",
              "      <td>2.500081e+08</td>\n",
              "      <td>7</td>\n",
              "      <td>False</td>\n",
              "      <td>18666</td>\n",
              "      <td>sell</td>\n",
              "      <td>49</td>\n",
              "      <td>1</td>\n",
              "      <td>5</td>\n",
              "    </tr>\n",
              "    <tr>\n",
              "      <th>499997</th>\n",
              "      <td>2.500088e+08</td>\n",
              "      <td>6</td>\n",
              "      <td>False</td>\n",
              "      <td>18666</td>\n",
              "      <td>buy</td>\n",
              "      <td>92</td>\n",
              "      <td>1</td>\n",
              "      <td>10</td>\n",
              "    </tr>\n",
              "    <tr>\n",
              "      <th>499998</th>\n",
              "      <td>2.500095e+08</td>\n",
              "      <td>8</td>\n",
              "      <td>False</td>\n",
              "      <td>18665</td>\n",
              "      <td>sell</td>\n",
              "      <td>87</td>\n",
              "      <td>1</td>\n",
              "      <td>9</td>\n",
              "    </tr>\n",
              "    <tr>\n",
              "      <th>499999</th>\n",
              "      <td>2.500098e+08</td>\n",
              "      <td>1</td>\n",
              "      <td>False</td>\n",
              "      <td>18665</td>\n",
              "      <td>sell</td>\n",
              "      <td>80</td>\n",
              "      <td>1</td>\n",
              "      <td>8</td>\n",
              "    </tr>\n",
              "  </tbody>\n",
              "</table>\n",
              "<p>500000 rows × 8 columns</p>\n",
              "</div>"
            ],
            "text/plain": [
              "           timestamp  gateway_targeted  ...  price_range  quantity_range\n",
              "0       1.813080e+02                 6  ...            4               9\n",
              "1       3.584480e+02                 3  ...            3               4\n",
              "2       4.760810e+02                 2  ...            3               2\n",
              "3       1.007773e+03                 2  ...            3               9\n",
              "4       1.554167e+03                 7  ...            3               5\n",
              "...              ...               ...  ...          ...             ...\n",
              "499995  2.500072e+08                 7  ...            1               6\n",
              "499996  2.500081e+08                 7  ...            1               5\n",
              "499997  2.500088e+08                 6  ...            1              10\n",
              "499998  2.500095e+08                 8  ...            1               9\n",
              "499999  2.500098e+08                 1  ...            1               8\n",
              "\n",
              "[500000 rows x 8 columns]"
            ]
          },
          "metadata": {},
          "execution_count": 33
        }
      ]
    },
    {
      "cell_type": "code",
      "metadata": {
        "colab": {
          "base_uri": "https://localhost:8080/",
          "height": 432
        },
        "id": "VVJFyNezQrYu",
        "outputId": "67381472-1685-4927-f799-9091c906c4a9"
      },
      "source": [
        "'''\n",
        "Ananlyse the percentage of succeeded orders at different quantity ranges (for all orders, sell orders and buy orders)\n",
        "'''\n",
        "\n",
        "# Generate dataframe of percentage of succeeded orders\n",
        "df_quantity = percentage_success(df, 'quantity_range')\n",
        "df_sell = df[df['side'] == 'sell']\n",
        "df_quantity_sell = percentage_success(df_sell, 'quantity_range')\n",
        "df_buy = df[df['side'] == 'buy']\n",
        "df_quantity_buy = percentage_success(df_buy, 'quantity_range')\n",
        "\n",
        "# Draw plot\n",
        "f, axes = plt.subplots(1, 3, sharex=True, sharey=True, figsize=(18, 6))\n",
        "f.suptitle('The percentage of succeeded orders at different quantity ranges')\n",
        "\n",
        "axes[0].set_title('All orders')\n",
        "axes[1].set_title('Sell orders')\n",
        "axes[2].set_title('Buy orders')\n",
        "\n",
        "sns.barplot(x='quantity_range', y='succeed_percentage', data=df_quantity, color='#69b3a2', ax=axes[0])\n",
        "sns.barplot(x='quantity_range', y='succeed_percentage', data=df_quantity_sell, color='#69b3a2', ax=axes[1]) \n",
        "sns.barplot(x='quantity_range', y='succeed_percentage', data=df_quantity_buy, color='#69b3a2', ax=axes[2])\n",
        "\n",
        "\n",
        "plt.show()"
      ],
      "execution_count": 34,
      "outputs": [
        {
          "output_type": "display_data",
          "data": {
            "image/png": "[encoded data removed]",
            "text/plain": [
              "<Figure size 1296x432 with 3 Axes>"
            ]
          },
          "metadata": {
            "needs_background": "light"
          }
        }
      ]
    },
    {
      "cell_type": "markdown",
      "metadata": {
        "id": "F9H_7-fMp62C"
      },
      "source": [
        "notes:"
      ]
    },
    {
      "cell_type": "markdown",
      "metadata": {
        "id": "KVvvlp9z72ml"
      },
      "source": [
        "Conclude: Based on the analyzing and visualization above, it's easy to see that only gateway impacts the probability of an order succeeding. The impact of other factors is trivial."
      ]
    },
    {
      "cell_type": "markdown",
      "metadata": {
        "id": "vbTBj9nqp62G"
      },
      "source": [
        "Questions:\n",
        "\n",
        "1. Part 2: If you were asked to model the statistical significance of your results, I would use the Hypothesis Test for a Difference in Two Population Means.\n",
        "        Please implemnent your idea in dev. \n",
        "\n",
        "2. Part 3c: why do you think splitting 5 ranges making sense?\n",
        "3. Part 3: Please combine different features or using features engineering technique to see if there is any relevancy. Do note that the price sent for buy/sell will have great impact to the succeeding. For example, if you are sending buy order with low price, nobody is willing to sell to you and vice versa. It should have some relevancy. \n",
        "\n"
      ]
    },
    {
      "cell_type": "markdown",
      "metadata": {
        "id": "ZNtqfbBxw144"
      },
      "source": [
        "----------------------------------------------------------------------------"
      ]
    },
    {
      "cell_type": "markdown",
      "metadata": {
        "id": "KZh2W19Sw4oz"
      },
      "source": [
        "**Answer the extra questions**"
      ]
    },
    {
      "cell_type": "markdown",
      "metadata": {
        "id": "FCg7dXwMxCLs"
      },
      "source": [
        "**1.** I already implemented my approach above (In Question 2 part)."
      ]
    },
    {
      "cell_type": "markdown",
      "metadata": {
        "id": "hOT13UO7xPaz"
      },
      "source": [
        "**2. Part 3c: why do you think splitting 5 ranges making sense?**\n",
        "\n",
        "My purpose of splitting price into multiple ranges is to compute the percentage of succeeded orders in these ranges. As you analysed, the buy orders with high price will have high chance to succeed and vice versa. The sell orders with low price will also have high change to succeed and vice versa. So, the graph showing the percentage of succeeded orders at different price ranges (for sell and buy orders) should look like:\n",
        "\n",
        "![](https://raw.githubusercontent.com/dienthaipham103/programming_test/master/data/price_impact.jpg)\n",
        "\n",
        "If the dataset follows the rule you say, the shape of the graphs are not changed if I change the number of price ranges. Moreover, if the price of orders affects the probability of an order succeeding, the succeed_percentage will vary a lot among different price ranges.\n",
        "\n",
        "Unfortunately, my graphs does not follow any specific rule. I think that there are two reasons. First, I am not sure that all orders are from stocks of one company or many companies. If the stocks are from many companies, the price of orders can not be compared to each other. Second, although the data is quiet large, but it is not large enough. The number of failed orders is still small. This dataset can not represent the entire population. The number of failed/succeeded orders, % of success (based on price ranges) is shown as following:\n",
        "\n",
        "For sell orders:\n",
        "- range_1 (18539 -> 19000): 508/49669 (1.01%)\n",
        "- range_2 (19000 -> 19500): 965/97338 (0.98%)\n",
        "- range_3 (19500 -> 20000): 340/33875 (0.99%)\n",
        "- range_4 (20000 -> 20500): 391/37417 (1.03%)\n",
        "- range_5 (20500 -> 20801): 305/29543 (1.02%)\n",
        "\n",
        "For buy orders:\n",
        "- range_1 (18539 -> 19000): 470/50322 (0.93%)\n",
        "- range_2 (19000 -> 19500): 1003/96788 (1.03%)\n",
        "- range_3 (19500 -> 20000): 313/33501 (0.93%)\n",
        "- range_4 (20000 -> 20500): 357/37210 (0.95%)\n",
        "- range_5 (20500 -> 20801): 274/29411 (0.92%)\n"
      ]
    },
    {
      "cell_type": "markdown",
      "metadata": {
        "id": "vE22JAEKrKqc"
      },
      "source": [
        "**Part 3: Please combine different features or using features engineering technique to see if there is any relevancy. Do note that the price sent for buy/sell will have great impact to the succeeding. For example, if you are sending buy order with low price, nobody is willing to sell to you and vice versa. It should have some relevancy.**\n",
        "\n",
        "I will use the feature importance score to analyze the effect of the fearures on target variable (success/fail).\n",
        "\n"
      ]
    },
    {
      "cell_type": "code",
      "metadata": {
        "colab": {
          "base_uri": "https://localhost:8080/",
          "height": 439
        },
        "id": "RaLh9XP7tz7k",
        "outputId": "90dceb4c-c591-45a3-c6d2-39af757df4c3"
      },
      "source": [
        "'''\n",
        "Prepare data to fit the ML model, compute the feature importance score\n",
        "'''\n",
        "df_new = df.copy()\n",
        "df_new['gateway_targeted'] = df_new['gateway_targeted'].astype(str)\n",
        "df_new['succeeded'] = df_new['succeeded'].astype(int)\n",
        "df_new = df_new[['gateway_targeted', 'succeeded', 'price', 'side', 'quantity']]\n",
        "\n",
        "# Convert categorical variables (Gateway_target, Side) to dummy variables\n",
        "df_new = pd.get_dummies(df_new)\n",
        "\n",
        "# Normalize two numerical variables (price, quantity). To scale all variables: 0 -> 1\n",
        "df_new['price']=(df_new['price']-df_new['price'].min())/(df_new['price'].max()-df_new['price'].min())\n",
        "df_new['quantity']=(df_new['quantity']-df_new['quantity'].min())/(df_new['quantity'].max()-df_new['quantity'].min())\n",
        "df_new"
      ],
      "execution_count": 35,
      "outputs": [
        {
          "output_type": "execute_result",
          "data": {
            "text/html": [
              "<div>\n",
              "<style scoped>\n",
              "    .dataframe tbody tr th:only-of-type {\n",
              "        vertical-align: middle;\n",
              "    }\n",
              "\n",
              "    .dataframe tbody tr th {\n",
              "        vertical-align: top;\n",
              "    }\n",
              "\n",
              "    .dataframe thead th {\n",
              "        text-align: right;\n",
              "    }\n",
              "</style>\n",
              "<table border=\"1\" class=\"dataframe\">\n",
              "  <thead>\n",
              "    <tr style=\"text-align: right;\">\n",
              "      <th></th>\n",
              "      <th>succeeded</th>\n",
              "      <th>price</th>\n",
              "      <th>quantity</th>\n",
              "      <th>gateway_targeted_1</th>\n",
              "      <th>gateway_targeted_2</th>\n",
              "      <th>gateway_targeted_3</th>\n",
              "      <th>gateway_targeted_4</th>\n",
              "      <th>gateway_targeted_5</th>\n",
              "      <th>gateway_targeted_6</th>\n",
              "      <th>gateway_targeted_7</th>\n",
              "      <th>gateway_targeted_8</th>\n",
              "      <th>side_buy</th>\n",
              "      <th>side_sell</th>\n",
              "    </tr>\n",
              "  </thead>\n",
              "  <tbody>\n",
              "    <tr>\n",
              "      <th>0</th>\n",
              "      <td>0</td>\n",
              "      <td>0.645889</td>\n",
              "      <td>0.88</td>\n",
              "      <td>0</td>\n",
              "      <td>0</td>\n",
              "      <td>0</td>\n",
              "      <td>0</td>\n",
              "      <td>0</td>\n",
              "      <td>1</td>\n",
              "      <td>0</td>\n",
              "      <td>0</td>\n",
              "      <td>0</td>\n",
              "      <td>1</td>\n",
              "    </tr>\n",
              "    <tr>\n",
              "      <th>1</th>\n",
              "      <td>0</td>\n",
              "      <td>0.645447</td>\n",
              "      <td>0.37</td>\n",
              "      <td>0</td>\n",
              "      <td>0</td>\n",
              "      <td>1</td>\n",
              "      <td>0</td>\n",
              "      <td>0</td>\n",
              "      <td>0</td>\n",
              "      <td>0</td>\n",
              "      <td>0</td>\n",
              "      <td>0</td>\n",
              "      <td>1</td>\n",
              "    </tr>\n",
              "    <tr>\n",
              "      <th>2</th>\n",
              "      <td>0</td>\n",
              "      <td>0.645447</td>\n",
              "      <td>0.16</td>\n",
              "      <td>0</td>\n",
              "      <td>1</td>\n",
              "      <td>0</td>\n",
              "      <td>0</td>\n",
              "      <td>0</td>\n",
              "      <td>0</td>\n",
              "      <td>0</td>\n",
              "      <td>0</td>\n",
              "      <td>1</td>\n",
              "      <td>0</td>\n",
              "    </tr>\n",
              "    <tr>\n",
              "      <th>3</th>\n",
              "      <td>0</td>\n",
              "      <td>0.645447</td>\n",
              "      <td>0.87</td>\n",
              "      <td>0</td>\n",
              "      <td>1</td>\n",
              "      <td>0</td>\n",
              "      <td>0</td>\n",
              "      <td>0</td>\n",
              "      <td>0</td>\n",
              "      <td>0</td>\n",
              "      <td>0</td>\n",
              "      <td>1</td>\n",
              "      <td>0</td>\n",
              "    </tr>\n",
              "    <tr>\n",
              "      <th>4</th>\n",
              "      <td>0</td>\n",
              "      <td>0.645447</td>\n",
              "      <td>0.41</td>\n",
              "      <td>0</td>\n",
              "      <td>0</td>\n",
              "      <td>0</td>\n",
              "      <td>0</td>\n",
              "      <td>0</td>\n",
              "      <td>0</td>\n",
              "      <td>1</td>\n",
              "      <td>0</td>\n",
              "      <td>1</td>\n",
              "      <td>0</td>\n",
              "    </tr>\n",
              "    <tr>\n",
              "      <th>...</th>\n",
              "      <td>...</td>\n",
              "      <td>...</td>\n",
              "      <td>...</td>\n",
              "      <td>...</td>\n",
              "      <td>...</td>\n",
              "      <td>...</td>\n",
              "      <td>...</td>\n",
              "      <td>...</td>\n",
              "      <td>...</td>\n",
              "      <td>...</td>\n",
              "      <td>...</td>\n",
              "      <td>...</td>\n",
              "      <td>...</td>\n",
              "    </tr>\n",
              "    <tr>\n",
              "      <th>499995</th>\n",
              "      <td>0</td>\n",
              "      <td>0.057029</td>\n",
              "      <td>0.57</td>\n",
              "      <td>0</td>\n",
              "      <td>0</td>\n",
              "      <td>0</td>\n",
              "      <td>0</td>\n",
              "      <td>0</td>\n",
              "      <td>0</td>\n",
              "      <td>1</td>\n",
              "      <td>0</td>\n",
              "      <td>1</td>\n",
              "      <td>0</td>\n",
              "    </tr>\n",
              "    <tr>\n",
              "      <th>499996</th>\n",
              "      <td>0</td>\n",
              "      <td>0.056145</td>\n",
              "      <td>0.48</td>\n",
              "      <td>0</td>\n",
              "      <td>0</td>\n",
              "      <td>0</td>\n",
              "      <td>0</td>\n",
              "      <td>0</td>\n",
              "      <td>0</td>\n",
              "      <td>1</td>\n",
              "      <td>0</td>\n",
              "      <td>0</td>\n",
              "      <td>1</td>\n",
              "    </tr>\n",
              "    <tr>\n",
              "      <th>499997</th>\n",
              "      <td>0</td>\n",
              "      <td>0.056145</td>\n",
              "      <td>0.91</td>\n",
              "      <td>0</td>\n",
              "      <td>0</td>\n",
              "      <td>0</td>\n",
              "      <td>0</td>\n",
              "      <td>0</td>\n",
              "      <td>1</td>\n",
              "      <td>0</td>\n",
              "      <td>0</td>\n",
              "      <td>1</td>\n",
              "      <td>0</td>\n",
              "    </tr>\n",
              "    <tr>\n",
              "      <th>499998</th>\n",
              "      <td>0</td>\n",
              "      <td>0.055703</td>\n",
              "      <td>0.86</td>\n",
              "      <td>0</td>\n",
              "      <td>0</td>\n",
              "      <td>0</td>\n",
              "      <td>0</td>\n",
              "      <td>0</td>\n",
              "      <td>0</td>\n",
              "      <td>0</td>\n",
              "      <td>1</td>\n",
              "      <td>0</td>\n",
              "      <td>1</td>\n",
              "    </tr>\n",
              "    <tr>\n",
              "      <th>499999</th>\n",
              "      <td>0</td>\n",
              "      <td>0.055703</td>\n",
              "      <td>0.79</td>\n",
              "      <td>1</td>\n",
              "      <td>0</td>\n",
              "      <td>0</td>\n",
              "      <td>0</td>\n",
              "      <td>0</td>\n",
              "      <td>0</td>\n",
              "      <td>0</td>\n",
              "      <td>0</td>\n",
              "      <td>0</td>\n",
              "      <td>1</td>\n",
              "    </tr>\n",
              "  </tbody>\n",
              "</table>\n",
              "<p>500000 rows × 13 columns</p>\n",
              "</div>"
            ],
            "text/plain": [
              "        succeeded     price  quantity  ...  gateway_targeted_8  side_buy  side_sell\n",
              "0               0  0.645889      0.88  ...                   0         0          1\n",
              "1               0  0.645447      0.37  ...                   0         0          1\n",
              "2               0  0.645447      0.16  ...                   0         1          0\n",
              "3               0  0.645447      0.87  ...                   0         1          0\n",
              "4               0  0.645447      0.41  ...                   0         1          0\n",
              "...           ...       ...       ...  ...                 ...       ...        ...\n",
              "499995          0  0.057029      0.57  ...                   0         1          0\n",
              "499996          0  0.056145      0.48  ...                   0         0          1\n",
              "499997          0  0.056145      0.91  ...                   0         1          0\n",
              "499998          0  0.055703      0.86  ...                   1         0          1\n",
              "499999          0  0.055703      0.79  ...                   0         0          1\n",
              "\n",
              "[500000 rows x 13 columns]"
            ]
          },
          "metadata": {},
          "execution_count": 35
        }
      ]
    },
    {
      "cell_type": "code",
      "metadata": {
        "colab": {
          "base_uri": "https://localhost:8080/"
        },
        "id": "fzue4V8Os7ac",
        "outputId": "5219370f-3e30-4467-c9b4-1d0365d4769c"
      },
      "source": [
        "X = np.array(df_new.drop(['succeeded'], axis=1))\n",
        "y = np.array(df_new['succeeded'])\n",
        "print('Number of features: ', X.shape[1])"
      ],
      "execution_count": 36,
      "outputs": [
        {
          "output_type": "stream",
          "name": "stdout",
          "text": [
            "Number of features:  12\n"
          ]
        }
      ]
    },
    {
      "cell_type": "markdown",
      "metadata": {
        "id": "LYMt5rDn5a7C"
      },
      "source": [
        "There are 12 features. The first two features are related to price, quantity. The last two features are related to side (sell/buy) "
      ]
    },
    {
      "cell_type": "code",
      "metadata": {
        "colab": {
          "base_uri": "https://localhost:8080/",
          "height": 469
        },
        "id": "tQ3LEWQmzC1W",
        "outputId": "f992eb6d-d97e-4355-8ad5-7c27dab06444"
      },
      "source": [
        "'''\n",
        "Now, I fit a LogisticRegression model on the dataset and retrieve the coefficients for each input variable.\n",
        "These coefficients can provide the basis for a feature importance score.\n",
        "The coefficients are both positive and negative. The positive scores indicate a feature that predicts class 1, \n",
        "whereas the negative scores indicate a feature that predicts class 0.\n",
        "The coefficients of features that are not important tend to be 0.\n",
        "'''\n",
        "\n",
        "# Define the model\n",
        "model = LogisticRegression()\n",
        "\n",
        "# Fit the model\n",
        "model.fit(X, y)\n",
        "\n",
        "# Get importance\n",
        "importance = model.coef_[0]\n",
        "\n",
        "# Summarize feature importance\n",
        "for i,v in enumerate(importance):\n",
        "\tprint('Feature: %0d, Score: %.5f' % (i,v))\n",
        "\n",
        "# Plot feature importance\n",
        "plt.bar([x for x in range(len(importance))], importance)\n",
        "plt.show()"
      ],
      "execution_count": 37,
      "outputs": [
        {
          "output_type": "stream",
          "name": "stdout",
          "text": [
            "Feature: 0, Score: -0.01781\n",
            "Feature: 1, Score: -0.04692\n",
            "Feature: 2, Score: 2.00752\n",
            "Feature: 3, Score: -0.85976\n",
            "Feature: 4, Score: 0.43287\n",
            "Feature: 5, Score: -1.36155\n",
            "Feature: 6, Score: 0.88228\n",
            "Feature: 7, Score: 1.38020\n",
            "Feature: 8, Score: -2.24871\n",
            "Feature: 9, Score: -0.23086\n",
            "Feature: 10, Score: -0.01395\n",
            "Feature: 11, Score: 0.01593\n"
          ]
        },
        {
          "output_type": "display_data",
          "data": {
            "image/png": "[encoded data removed]",
            "text/plain": [
              "<Figure size 432x288 with 1 Axes>"
            ]
          },
          "metadata": {
            "needs_background": "light"
          }
        }
      ]
    },
    {
      "cell_type": "markdown",
      "metadata": {
        "id": "jGGDlGSGJC-e"
      },
      "source": [
        "Conclusion: The importance score of the first two features and the last two feature tend to be 0. So, features related to price, quantity and side do no effect much on the succeeding of orders. For the score of features related to gateway, it absolutely match with the result of percentage of succeeded orders with different gateways.\n",
        "\n",
        "![](https://raw.githubusercontent.com/dienthaipham103/programming_test/master/data/gateway_impact.png)\n",
        "\n",
        "For example:\n",
        "- Gateway 1: The percentage of success is highest. So, the coefficient of this features is positive and it is also the highest.\n",
        "- Gateway 7: The percentage of success is lowest. So, the coefficient of this features is negative and it is also the lowest."
      ]
    },
    {
      "cell_type": "code",
      "metadata": {
        "colab": {
          "base_uri": "https://localhost:8080/",
          "height": 469
        },
        "id": "3D-Epx9nJegz",
        "outputId": "dcedaab1-50e9-4a87-ef3a-9827ef2ff2a1"
      },
      "source": [
        "'''\n",
        "Logistic regression does not support imbalanced classification (Our dataset is so imbalanced). For this reason, the result of feature importance may be\n",
        "not very accurate.\n",
        "So, I do the same way but with XGBoost model. This algorithm can handle imbalanced dataset directly.\n",
        "'''\n",
        "\n",
        "# Define the model. Handle imbalanced data by scale_pos_weight = 495074/4926 = 100\n",
        "model = XGBClassifier(scale_pos_weight=100)\n",
        "\n",
        "# Fit the model\n",
        "model.fit(X, y)\n",
        "\n",
        "# Get importance\n",
        "importance = model.feature_importances_\n",
        "\n",
        "# Summarize feature importance\n",
        "for i,v in enumerate(importance):\n",
        "\tprint('Feature: %0d, Score: %.5f' % (i,v))\n",
        "\n",
        "# Plot feature importance\n",
        "plt.bar([x for x in range(len(importance))], importance)\n",
        "plt.show()"
      ],
      "execution_count": 38,
      "outputs": [
        {
          "output_type": "stream",
          "name": "stdout",
          "text": [
            "Feature: 0, Score: 0.00271\n",
            "Feature: 1, Score: 0.00217\n",
            "Feature: 2, Score: 0.34172\n",
            "Feature: 3, Score: 0.03784\n",
            "Feature: 4, Score: 0.02369\n",
            "Feature: 5, Score: 0.05507\n",
            "Feature: 6, Score: 0.19160\n",
            "Feature: 7, Score: 0.26626\n",
            "Feature: 8, Score: 0.06318\n",
            "Feature: 9, Score: 0.01438\n",
            "Feature: 10, Score: 0.00137\n",
            "Feature: 11, Score: 0.00000\n"
          ]
        },
        {
          "output_type": "display_data",
          "data": {
            "image/png": "[encoded data removed]",
            "text/plain": [
              "<Figure size 432x288 with 1 Axes>"
            ]
          },
          "metadata": {
            "needs_background": "light"
          }
        }
      ]
    },
    {
      "cell_type": "markdown",
      "metadata": {
        "id": "FuU492Q0Pn12"
      },
      "source": [
        "The result is still the same. The importance score of features related to price, quantity and side also tend to 0. "
      ]
    },
    {
      "cell_type": "markdown",
      "metadata": {
        "id": "uabssy26x8jj"
      },
      "source": [
        "-----------------------------------------------------------------"
      ]
    },
    {
      "cell_type": "code",
      "metadata": {
        "colab": {
          "base_uri": "https://localhost:8080/"
        },
        "id": "uGMe4Y7gWm0-",
        "outputId": "e0099718-3052-4b19-e13d-2e633d595055"
      },
      "source": [
        "'''\n",
        "Compute the correlation between price and succeeded\n",
        "'''\n",
        "\n",
        "# for all orders\n",
        "corr = df_new['price'].corr(df_new['succeeded'])\n",
        "print(\"Correlation between price and succeeded (all orders): \", corr)\n",
        "\n",
        "# for sell orders\n",
        "df_new_sell = df_new[df_new['side_sell'] == 1]\n",
        "corr1 = df_new_sell['price'].corr(df_new_sell['succeeded'])\n",
        "print(\"Correlation between price and succeeded (sell orders): \", corr1)\n",
        "\n",
        "# for buy orders\n",
        "df_new_buy = df_new[df_new['side_buy'] == 1]\n",
        "corr2 = df_new_buy['price'].corr(df_new_buy['succeeded'])\n",
        "print(\"Correlation between price and succeeded (buy orders): \", corr2)"
      ],
      "execution_count": 39,
      "outputs": [
        {
          "output_type": "stream",
          "name": "stdout",
          "text": [
            "Correlation between price and succeeded (all orders):  -0.00024873727633607784\n",
            "Correlation between price and succeeded (sell orders):  0.0011055065033043615\n",
            "Correlation between price and succeeded (buy orders):  -0.0016356586990338739\n"
          ]
        }
      ]
    },
    {
      "cell_type": "markdown",
      "metadata": {
        "id": "AnIzdjM0sWv_"
      },
      "source": [
        "There appears to be not a strong correlation between the price and succeeded."
      ]
    },
    {
      "cell_type": "markdown",
      "metadata": {
        "id": "ygXMwIupu1Ov"
      },
      "source": [
        "-----------------------------------------------"
      ]
    },
    {
      "cell_type": "markdown",
      "metadata": {
        "id": "uYMZAXBeu257"
      },
      "source": [
        "I also want to try another way to compute the feature importance score by using the Adjusted Mutual Information (AMI) [paper](https://jmlr.csail.mit.edu/papers/volume11/vinh10a/vinh10a.pdf), a metric for scoring features in unsupervised learning."
      ]
    },
    {
      "cell_type": "code",
      "metadata": {
        "colab": {
          "base_uri": "https://localhost:8080/"
        },
        "id": "zUeEYO8hwLo9",
        "outputId": "4913b81d-8435-41b8-b65e-bef00680bc2c"
      },
      "source": [
        "ami_list = []\n",
        "for feature in df_new.columns:\n",
        "    if feature != 'succeeded':\n",
        "        ami_list.append((feature, adjusted_mutual_info_score(df_new['succeeded'], df_new[feature])))\n",
        "ami_list.sort(key=lambda x: abs(x[1]), reverse=True)\n",
        "\n",
        "# show AMI of all features\n",
        "for feature, ami in ami_list:\n",
        "    print(feature)\n",
        "    print('AMI: {:.6f}'.format(ami))\n",
        "    print('---------------------')"
      ],
      "execution_count": 40,
      "outputs": [
        {
          "output_type": "stream",
          "name": "stdout",
          "text": [
            "gateway_targeted_1\n",
            "AMI: 0.013572\n",
            "---------------------\n",
            "gateway_targeted_7\n",
            "AMI: 0.004978\n",
            "---------------------\n",
            "gateway_targeted_4\n",
            "AMI: 0.003878\n",
            "---------------------\n",
            "gateway_targeted_2\n",
            "AMI: 0.002971\n",
            "---------------------\n",
            "gateway_targeted_6\n",
            "AMI: 0.002133\n",
            "---------------------\n",
            "gateway_targeted_8\n",
            "AMI: 0.001589\n",
            "---------------------\n",
            "gateway_targeted_3\n",
            "AMI: 0.000237\n",
            "---------------------\n",
            "gateway_targeted_5\n",
            "AMI: 0.000071\n",
            "---------------------\n",
            "price\n",
            "AMI: -0.000021\n",
            "---------------------\n",
            "quantity\n",
            "AMI: 0.000012\n",
            "---------------------\n",
            "side_buy\n",
            "AMI: 0.000001\n",
            "---------------------\n",
            "side_sell\n",
            "AMI: 0.000001\n",
            "---------------------\n"
          ]
        }
      ]
    }
  ]
}